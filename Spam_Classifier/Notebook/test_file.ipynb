{
 "cells": [
  {
   "cell_type": "code",
   "execution_count": 3,
   "id": "a5f0be3f",
   "metadata": {},
   "outputs": [],
   "source": [
    "import pickle as pkl\n",
    "import numpy as np"
   ]
  },
  {
   "cell_type": "code",
   "execution_count": 2,
   "id": "1ded0398",
   "metadata": {},
   "outputs": [],
   "source": [
    "with open(\"spam_cls.pkl\",'rb') as f:\n",
    "    model=pkl.load(f)"
   ]
  },
  {
   "cell_type": "code",
   "execution_count": 4,
   "id": "9b5709b8",
   "metadata": {},
   "outputs": [
    {
     "data": {
      "text/plain": [
       "array([\"Congratulations! You've won a luxury vacation package to an exotic destination of your choice. Experience the trip of a lifetime and create unforgettable memories. Claim your prize now by clicking the link below!\",\n",
       "       \"You're our lucky winner! As a token of our appreciation, we're delighted to offer you exclusive access to our premium rewards program. Enjoy buy one, get one free deals, special discounts, and VIP treatment. Don't miss out on this limited-time offer!\",\n",
       "       \"Hurry, don't miss out on our incredible limited-time offer! Buy one item and get the second one free. Whether you're shopping for yourself or looking for the perfect gift, now's the time to take advantage of this amazing deal. Shop now!\",\n",
       "       'Are you ready to change your life and achieve financial freedom? Our revolutionary investment opportunity offers you the chance to get rich quick with minimal effort. Join our program today and start making money effortlessly!',\n",
       "       'URGENT: Your account requires immediate attention! Our records indicate that your account is at risk or has been compromised. To secure your account and prevent unauthorized access, please click the link below to resolve the issue immediately.',\n",
       "       \"Congratulations, you're the lucky winner of a free vacation package to your dream destination! Escape the hustle and bustle of everyday life and relax in paradise. Act now to claim your prize and start planning your getaway!\",\n",
       "       \"Don't miss out on our special discount exclusively for our valued customers like you! Take advantage of this opportunity to save big on your favorite products and services. Shop now and enjoy incredible savings!\",\n",
       "       \"Earn money from the comfort of your own home with our easy work-from-home program. Whether you're looking to supplement your income or start a new career, our program offers flexible hours, competitive pay, and endless opportunities for growth. Join us today and start earning!\",\n",
       "       \"We have an exclusive deal just for you! Act fast before it's gone. Whether you're looking for a last-minute getaway, a new wardrobe, or the latest gadgets, we've got you covered. Don't wait, seize this opportunity now!\",\n",
       "       'Unlock secret savings and receive exclusive offers by signing up for our newsletter. Be the first to know about our latest promotions, product launches, and special events. Join our community today and start saving!'],\n",
       "      dtype='<U277')"
      ]
     },
     "execution_count": 4,
     "metadata": {},
     "output_type": "execute_result"
    }
   ],
   "source": [
    "spam_messages = np.array([\n",
    "    \"Congratulations! You've won a luxury vacation package to an exotic destination of your choice. Experience the trip of a lifetime and create unforgettable memories. Claim your prize now by clicking the link below!\",\n",
    "    \"You're our lucky winner! As a token of our appreciation, we're delighted to offer you exclusive access to our premium rewards program. Enjoy buy one, get one free deals, special discounts, and VIP treatment. Don't miss out on this limited-time offer!\",\n",
    "    \"Hurry, don't miss out on our incredible limited-time offer! Buy one item and get the second one free. Whether you're shopping for yourself or looking for the perfect gift, now's the time to take advantage of this amazing deal. Shop now!\",\n",
    "    \"Are you ready to change your life and achieve financial freedom? Our revolutionary investment opportunity offers you the chance to get rich quick with minimal effort. Join our program today and start making money effortlessly!\",\n",
    "    \"URGENT: Your account requires immediate attention! Our records indicate that your account is at risk or has been compromised. To secure your account and prevent unauthorized access, please click the link below to resolve the issue immediately.\",\n",
    "    \"Congratulations, you're the lucky winner of a free vacation package to your dream destination! Escape the hustle and bustle of everyday life and relax in paradise. Act now to claim your prize and start planning your getaway!\",\n",
    "    \"Don't miss out on our special discount exclusively for our valued customers like you! Take advantage of this opportunity to save big on your favorite products and services. Shop now and enjoy incredible savings!\",\n",
    "    \"Earn money from the comfort of your own home with our easy work-from-home program. Whether you're looking to supplement your income or start a new career, our program offers flexible hours, competitive pay, and endless opportunities for growth. Join us today and start earning!\",\n",
    "    \"We have an exclusive deal just for you! Act fast before it's gone. Whether you're looking for a last-minute getaway, a new wardrobe, or the latest gadgets, we've got you covered. Don't wait, seize this opportunity now!\",\n",
    "    \"Unlock secret savings and receive exclusive offers by signing up for our newsletter. Be the first to know about our latest promotions, product launches, and special events. Join our community today and start saving!\"\n",
    "])\n",
    "\n",
    "\n",
    "# Convert the list of messages to a numpy array\n",
    "spam_messages_array = np.array(spam_messages)\n",
    "spam_messages_array"
   ]
  },
  {
   "cell_type": "code",
   "execution_count": 5,
   "id": "3a1c596e",
   "metadata": {},
   "outputs": [
    {
     "data": {
      "text/plain": [
       "array([1, 1, 0, 0, 1, 1, 0, 0, 0, 1])"
      ]
     },
     "execution_count": 5,
     "metadata": {},
     "output_type": "execute_result"
    }
   ],
   "source": [
    "model.predict(spam_messages_array)"
   ]
  },
  {
   "cell_type": "code",
   "execution_count": null,
   "id": "71f2d8a4",
   "metadata": {},
   "outputs": [],
   "source": []
  }
 ],
 "metadata": {
  "kernelspec": {
   "display_name": "Python 3 (ipykernel)",
   "language": "python",
   "name": "python3"
  },
  "language_info": {
   "codemirror_mode": {
    "name": "ipython",
    "version": 3
   },
   "file_extension": ".py",
   "mimetype": "text/x-python",
   "name": "python",
   "nbconvert_exporter": "python",
   "pygments_lexer": "ipython3",
   "version": "3.11.5"
  }
 },
 "nbformat": 4,
 "nbformat_minor": 5
}
